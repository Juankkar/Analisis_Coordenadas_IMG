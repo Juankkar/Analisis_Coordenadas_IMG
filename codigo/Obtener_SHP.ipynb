{
 "cells": [
  {
   "cell_type": "code",
   "execution_count": 1,
   "metadata": {},
   "outputs": [
    {
     "name": "stderr",
     "output_type": "stream",
     "text": [
      "C:\\Users\\jcge9\\AppData\\Local\\Temp\\ipykernel_10964\\2301545057.py:1: DeprecationWarning: \n",
      "Pyarrow will become a required dependency of pandas in the next major release of pandas (pandas 3.0),\n",
      "(to allow more performant data types, such as the Arrow string type, and better interoperability with other libraries)\n",
      "but was not found to be installed on your system.\n",
      "If this would cause problems for you,\n",
      "please provide us feedback at https://github.com/pandas-dev/pandas/issues/54466\n",
      "        \n",
      "  import pandas as pd\n"
     ]
    }
   ],
   "source": [
    "import pandas as pd\n",
    "import geopandas as gpd\n",
    "from shapely import Point\n",
    "from pyproj import Proj, transform\n",
    "import warnings; warnings.filterwarnings(\"ignore\")"
   ]
  },
  {
   "cell_type": "code",
   "execution_count": 2,
   "metadata": {},
   "outputs": [
    {
     "data": {
      "text/html": [
       "<div>\n",
       "<style scoped>\n",
       "    .dataframe tbody tr th:only-of-type {\n",
       "        vertical-align: middle;\n",
       "    }\n",
       "\n",
       "    .dataframe tbody tr th {\n",
       "        vertical-align: top;\n",
       "    }\n",
       "\n",
       "    .dataframe thead th {\n",
       "        text-align: right;\n",
       "    }\n",
       "</style>\n",
       "<table border=\"1\" class=\"dataframe\">\n",
       "  <thead>\n",
       "    <tr style=\"text-align: right;\">\n",
       "      <th></th>\n",
       "      <th>FileName</th>\n",
       "      <th>GPSDateTime</th>\n",
       "      <th>Latitude</th>\n",
       "      <th>Longitude</th>\n",
       "    </tr>\n",
       "  </thead>\n",
       "  <tbody>\n",
       "    <tr>\n",
       "      <th>0</th>\n",
       "      <td>IMG_20240216_091859</td>\n",
       "      <td>2024:02:16 09:17:30Z</td>\n",
       "      <td>27.940029</td>\n",
       "      <td>-15.521798</td>\n",
       "    </tr>\n",
       "    <tr>\n",
       "      <th>1</th>\n",
       "      <td>IMG_20240216_100406</td>\n",
       "      <td>2024:02:16 10:04:02Z</td>\n",
       "      <td>27.875851</td>\n",
       "      <td>-15.425296</td>\n",
       "    </tr>\n",
       "    <tr>\n",
       "      <th>2</th>\n",
       "      <td>IMG_20240216_100426</td>\n",
       "      <td>2024:02:16 10:02:57Z</td>\n",
       "      <td>27.929460</td>\n",
       "      <td>-15.509449</td>\n",
       "    </tr>\n",
       "    <tr>\n",
       "      <th>3</th>\n",
       "      <td>IMG_20240216_111401</td>\n",
       "      <td>2024:02:16 11:12:29Z</td>\n",
       "      <td>27.928781</td>\n",
       "      <td>-15.483342</td>\n",
       "    </tr>\n",
       "    <tr>\n",
       "      <th>4</th>\n",
       "      <td>IMG_20240216_114358</td>\n",
       "      <td>2024:02:16 11:42:29Z</td>\n",
       "      <td>27.930365</td>\n",
       "      <td>-15.480290</td>\n",
       "    </tr>\n",
       "  </tbody>\n",
       "</table>\n",
       "</div>"
      ],
      "text/plain": [
       "              FileName           GPSDateTime   Latitude  Longitude\n",
       "0  IMG_20240216_091859  2024:02:16 09:17:30Z  27.940029 -15.521798\n",
       "1  IMG_20240216_100406  2024:02:16 10:04:02Z  27.875851 -15.425296\n",
       "2  IMG_20240216_100426  2024:02:16 10:02:57Z  27.929460 -15.509449\n",
       "3  IMG_20240216_111401  2024:02:16 11:12:29Z  27.928781 -15.483342\n",
       "4  IMG_20240216_114358  2024:02:16 11:42:29Z  27.930365 -15.480290"
      ]
     },
     "execution_count": 2,
     "metadata": {},
     "output_type": "execute_result"
    }
   ],
   "source": [
    "datos = pd.read_csv(\"..\\\\datos\\\\coordenadas.csv\")\n",
    "datos.head()"
   ]
  },
  {
   "cell_type": "markdown",
   "metadata": {},
   "source": [
    "## Coordenadas UTM\n",
    "\n",
    "### Pasar de grados decimales, \"**ESPG:4326**\" (por defecto en QGIS), al formato de IDECanarias: **ESPG:32628**  "
   ]
  },
  {
   "cell_type": "code",
   "execution_count": 3,
   "metadata": {},
   "outputs": [
    {
     "data": {
      "text/html": [
       "<div>\n",
       "<style scoped>\n",
       "    .dataframe tbody tr th:only-of-type {\n",
       "        vertical-align: middle;\n",
       "    }\n",
       "\n",
       "    .dataframe tbody tr th {\n",
       "        vertical-align: top;\n",
       "    }\n",
       "\n",
       "    .dataframe thead th {\n",
       "        text-align: right;\n",
       "    }\n",
       "</style>\n",
       "<table border=\"1\" class=\"dataframe\">\n",
       "  <thead>\n",
       "    <tr style=\"text-align: right;\">\n",
       "      <th></th>\n",
       "      <th>FileName</th>\n",
       "      <th>GPSDateTime</th>\n",
       "      <th>Latitude</th>\n",
       "      <th>Longitude</th>\n",
       "    </tr>\n",
       "  </thead>\n",
       "  <tbody>\n",
       "    <tr>\n",
       "      <th>0</th>\n",
       "      <td>IMG_20240216_091859</td>\n",
       "      <td>2024:02:16 09:17:30Z</td>\n",
       "      <td>448666.719</td>\n",
       "      <td>3090668.592</td>\n",
       "    </tr>\n",
       "    <tr>\n",
       "      <th>1</th>\n",
       "      <td>IMG_20240216_100406</td>\n",
       "      <td>2024:02:16 10:04:02Z</td>\n",
       "      <td>458135.820</td>\n",
       "      <td>3083522.565</td>\n",
       "    </tr>\n",
       "    <tr>\n",
       "      <th>2</th>\n",
       "      <td>IMG_20240216_100426</td>\n",
       "      <td>2024:02:16 10:02:57Z</td>\n",
       "      <td>449876.754</td>\n",
       "      <td>3089492.715</td>\n",
       "    </tr>\n",
       "    <tr>\n",
       "      <th>3</th>\n",
       "      <td>IMG_20240216_111401</td>\n",
       "      <td>2024:02:16 11:12:29Z</td>\n",
       "      <td>452445.106</td>\n",
       "      <td>3089407.062</td>\n",
       "    </tr>\n",
       "    <tr>\n",
       "      <th>4</th>\n",
       "      <td>IMG_20240216_114358</td>\n",
       "      <td>2024:02:16 11:42:29Z</td>\n",
       "      <td>452746.013</td>\n",
       "      <td>3089581.352</td>\n",
       "    </tr>\n",
       "  </tbody>\n",
       "</table>\n",
       "</div>"
      ],
      "text/plain": [
       "              FileName           GPSDateTime    Latitude    Longitude\n",
       "0  IMG_20240216_091859  2024:02:16 09:17:30Z  448666.719  3090668.592\n",
       "1  IMG_20240216_100406  2024:02:16 10:04:02Z  458135.820  3083522.565\n",
       "2  IMG_20240216_100426  2024:02:16 10:02:57Z  449876.754  3089492.715\n",
       "3  IMG_20240216_111401  2024:02:16 11:12:29Z  452445.106  3089407.062\n",
       "4  IMG_20240216_114358  2024:02:16 11:42:29Z  452746.013  3089581.352"
      ]
     },
     "execution_count": 3,
     "metadata": {},
     "output_type": "execute_result"
    }
   ],
   "source": [
    "datos = pd.read_csv(\"..\\\\datos\\\\coordenadas.csv\")\n",
    "datos.head()\n",
    "\n",
    "# Definir la proyección deseada (WGS 1984 / UTM Zone 28N para Canarias)\n",
    "proyeccion_deseada = Proj(init=\"epsg:32628\")\n",
    "\n",
    "# Función para transformar las coordenadas de una fila del DataFrame\n",
    "def transformar_coordenadas(row):\n",
    "    lat, lon = row[\"Latitude\"], row[\"Longitude\"]\n",
    "    x, y = transform(Proj(init=\"epsg:4326\"), proyeccion_deseada, lon, lat)\n",
    "    return round(float(x), 3), round(float(y), 3)\n",
    "\n",
    "# Aplicar la función a todas las filas del DataFrame\n",
    "datos[[\"Latitude\", \"Longitude\"]] = datos.apply(transformar_coordenadas, axis=1, result_type=\"expand\")\n",
    "\n",
    "# Imprimir el DataFrame resultante\n",
    "datos"
   ]
  },
  {
   "cell_type": "markdown",
   "metadata": {},
   "source": [
    "## Creamos las capas para QGIS (Archvios Shapefiles: SHP)"
   ]
  },
  {
   "cell_type": "code",
   "execution_count": 4,
   "metadata": {},
   "outputs": [
    {
     "data": {
      "text/html": [
       "<div>\n",
       "<style scoped>\n",
       "    .dataframe tbody tr th:only-of-type {\n",
       "        vertical-align: middle;\n",
       "    }\n",
       "\n",
       "    .dataframe tbody tr th {\n",
       "        vertical-align: top;\n",
       "    }\n",
       "\n",
       "    .dataframe thead th {\n",
       "        text-align: right;\n",
       "    }\n",
       "</style>\n",
       "<table border=\"1\" class=\"dataframe\">\n",
       "  <thead>\n",
       "    <tr style=\"text-align: right;\">\n",
       "      <th></th>\n",
       "      <th>FileName</th>\n",
       "      <th>GPSDateTime</th>\n",
       "      <th>Latitude</th>\n",
       "      <th>Longitude</th>\n",
       "      <th>geometry</th>\n",
       "    </tr>\n",
       "  </thead>\n",
       "  <tbody>\n",
       "    <tr>\n",
       "      <th>0</th>\n",
       "      <td>IMG_20240216_091859</td>\n",
       "      <td>2024:02:16 09:17:30Z</td>\n",
       "      <td>448666.719</td>\n",
       "      <td>3090668.592</td>\n",
       "      <td>POINT (448666.719 3090668.592)</td>\n",
       "    </tr>\n",
       "    <tr>\n",
       "      <th>1</th>\n",
       "      <td>IMG_20240216_100406</td>\n",
       "      <td>2024:02:16 10:04:02Z</td>\n",
       "      <td>458135.820</td>\n",
       "      <td>3083522.565</td>\n",
       "      <td>POINT (458135.820 3083522.565)</td>\n",
       "    </tr>\n",
       "    <tr>\n",
       "      <th>2</th>\n",
       "      <td>IMG_20240216_100426</td>\n",
       "      <td>2024:02:16 10:02:57Z</td>\n",
       "      <td>449876.754</td>\n",
       "      <td>3089492.715</td>\n",
       "      <td>POINT (449876.754 3089492.715)</td>\n",
       "    </tr>\n",
       "    <tr>\n",
       "      <th>3</th>\n",
       "      <td>IMG_20240216_111401</td>\n",
       "      <td>2024:02:16 11:12:29Z</td>\n",
       "      <td>452445.106</td>\n",
       "      <td>3089407.062</td>\n",
       "      <td>POINT (452445.106 3089407.062)</td>\n",
       "    </tr>\n",
       "    <tr>\n",
       "      <th>4</th>\n",
       "      <td>IMG_20240216_114358</td>\n",
       "      <td>2024:02:16 11:42:29Z</td>\n",
       "      <td>452746.013</td>\n",
       "      <td>3089581.352</td>\n",
       "      <td>POINT (452746.013 3089581.352)</td>\n",
       "    </tr>\n",
       "  </tbody>\n",
       "</table>\n",
       "</div>"
      ],
      "text/plain": [
       "              FileName           GPSDateTime    Latitude    Longitude  \\\n",
       "0  IMG_20240216_091859  2024:02:16 09:17:30Z  448666.719  3090668.592   \n",
       "1  IMG_20240216_100406  2024:02:16 10:04:02Z  458135.820  3083522.565   \n",
       "2  IMG_20240216_100426  2024:02:16 10:02:57Z  449876.754  3089492.715   \n",
       "3  IMG_20240216_111401  2024:02:16 11:12:29Z  452445.106  3089407.062   \n",
       "4  IMG_20240216_114358  2024:02:16 11:42:29Z  452746.013  3089581.352   \n",
       "\n",
       "                         geometry  \n",
       "0  POINT (448666.719 3090668.592)  \n",
       "1  POINT (458135.820 3083522.565)  \n",
       "2  POINT (449876.754 3089492.715)  \n",
       "3  POINT (452445.106 3089407.062)  \n",
       "4  POINT (452746.013 3089581.352)  "
      ]
     },
     "execution_count": 4,
     "metadata": {},
     "output_type": "execute_result"
    }
   ],
   "source": [
    "geometria_puntos = [Point(xy) for xy in zip(datos[\"Latitude\"], datos[\"Longitude\"])]\n",
    "gdf_puntos = gpd.GeoDataFrame(datos, geometry=geometria_puntos, crs=\"epsg:32628\")\n",
    "gdf_puntos.head()"
   ]
  },
  {
   "cell_type": "code",
   "execution_count": 5,
   "metadata": {},
   "outputs": [
    {
     "data": {
      "text/plain": [
       "<Axes: >"
      ]
     },
     "execution_count": 5,
     "metadata": {},
     "output_type": "execute_result"
    },
    {
     "data": {
      "image/png": "[encoded data removed]",
      "text/plain": [
       "<Figure size 640x480 with 1 Axes>"
      ]
     },
     "metadata": {},
     "output_type": "display_data"
    }
   ],
   "source": [
    "gdf_puntos.plot()"
   ]
  },
  {
   "cell_type": "code",
   "execution_count": 6,
   "metadata": {},
   "outputs": [],
   "source": [
    "gdf_puntos.to_file(\"..\\\\puntos\\\\capa_puntos.shp\")"
   ]
  }
 ],
 "metadata": {
  "kernelspec": {
   "display_name": "Python 3",
   "language": "python",
   "name": "python3"
  },
  "language_info": {
   "codemirror_mode": {
    "name": "ipython",
    "version": 3
   },
   "file_extension": ".py",
   "mimetype": "text/x-python",
   "name": "python",
   "nbconvert_exporter": "python",
   "pygments_lexer": "ipython3",
   "version": "3.12.2"
  }
 },
 "nbformat": 4,
 "nbformat_minor": 2
}
